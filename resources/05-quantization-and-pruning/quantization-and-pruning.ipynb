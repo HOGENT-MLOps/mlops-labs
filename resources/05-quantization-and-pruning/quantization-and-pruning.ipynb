{
 "cells": [
  {
   "cell_type": "markdown",
   "metadata": {
    "id": "D3-cg2_rYfe6"
   },
   "source": [
    "# Lab 5. Quantization and Pruning\n",
    "\n",
    "Sometimes you may want to run your model on edge devices such as Raspberry Pi's, mobile phones or IoT devices. These devices have limited computational resources and memory. Therefore, you need to optimize your model to run on these devices. In this lab, you will learn about some of the techniques that can be used to optimize your model for edge devices.\n",
    "\n",
    "You will start by training a Keras model. Then you will use this model as a baseline for comparison with the reduced models. You will go through the following techniques of model size reduction (the links contain guides about each technique):\n",
    "\n",
    "* [post-training quantization](https://www.tensorflow.org/lite/performance/post_training_quantization)\n",
    "* [quantization aware training](https://www.tensorflow.org/model_optimization/guide/quantization/training_comprehensive_guide)\n",
    "* [weight pruning](https://www.tensorflow.org/model_optimization/guide/pruning/comprehensive_guide)"
   ]
  },
  {
   "cell_type": "markdown",
   "metadata": {
    "id": "0gRaAOIsba55"
   },
   "source": [
    "## Part 0. Preparation\n",
    "\n",
    "Let's first install a fixed TensorFlow version. Later on in this lab assignment, you'll use TensorFlow Model Optimization which requires TF version 2.14.1 to be installed."
   ]
  },
  {
   "cell_type": "code",
   "execution_count": null,
   "metadata": {},
   "outputs": [],
   "source": [
    "!pip install tensorflow==2.14.1"
   ]
  },
  {
   "cell_type": "markdown",
   "metadata": {},
   "source": [
    "Then import a few common libraries that we'll use throughout the lab. Print the version of TensorFlow to check if everything is working correctly.\n",
    "\n",
    "We'll use the following libraries:\n",
    "\n",
    "- `tensorflow`: to do the actual ML\n",
    "- `numpy`: for handling the dataset (MNIST)\n",
    "- `os`: for reading model files size\n",
    "- `tempfile`: to create temporary files (for saving gzipped models)\n",
    "- `zipfile`: to make a gzipped model"
   ]
  },
  {
   "cell_type": "code",
   "execution_count": null,
   "metadata": {
    "colab": {
     "base_uri": "https://localhost:8080/"
    },
    "id": "9sL5kmRZbZxX",
    "outputId": "62632deb-9c8b-4f9e-e96f-c504dba49f39"
   },
   "outputs": [],
   "source": [
    "import tensorflow as tf\n",
    "import numpy as np\n",
    "import os\n",
    "import tempfile\n",
    "import zipfile\n",
    "\n",
    "print(tf.__version__)"
   ]
  },
  {
   "cell_type": "markdown",
   "metadata": {
    "id": "GS5gXwABm7XP"
   },
   "source": [
    "Let's also define a few string constants and utility functions to make our code easier to maintain."
   ]
  },
  {
   "cell_type": "code",
   "execution_count": null,
   "metadata": {
    "id": "nEuiXyPZMKQm"
   },
   "outputs": [],
   "source": [
    "# String constants for model filenames\n",
    "FILE_WEIGHTS = 'baseline.weights.h5'\n",
    "FILE_NON_QUANTIZED_H5 = 'non_quantized.h5'\n",
    "FILE_NON_QUANTIZED_TFLITE = 'non_quantized.tflite'\n",
    "FILE_PT_QUANTIZED = 'post_training_quantized.tflite'\n",
    "FILE_QAT_QUANTIZED = 'quant_aware_quantized.tflite'\n",
    "FILE_PRUNED_MODEL_H5 = 'pruned_model.h5'\n",
    "FILE_PRUNED_QUANTIZED_TFLITE = 'pruned_quantized.tflite'\n",
    "FILE_PRUNED_NON_QUANTIZED_TFLITE = 'pruned_non_quantized.tflite'\n",
    "\n",
    "# Dictionaries to hold measurements\n",
    "MODEL_SIZE = {}\n",
    "ACCURACY = {}"
   ]
  },
  {
   "cell_type": "code",
   "execution_count": null,
   "metadata": {
    "id": "pqdSGWccdk8G"
   },
   "outputs": [],
   "source": [
    "def print_metric(metric_dict, metric_name):\n",
    "  '''Prints key and values stored in a dictionary'''\n",
    "  for metric, value in metric_dict.items():\n",
    "    print(f'{metric_name} for {metric}: {value}')\n",
    "\n",
    "\n",
    "def model_builder():\n",
    "  '''Returns a shallow CNN for training on the MNIST dataset'''\n",
    "\n",
    "  keras = tf.keras\n",
    "\n",
    "  # Define the model architecture.\n",
    "  model = keras.Sequential([\n",
    "    keras.layers.InputLayer(input_shape=(28, 28)), # Input layer\n",
    "    keras.layers.Reshape(target_shape=(28, 28, 1)), # Reshape to 28x28x1\n",
    "    keras.layers.Conv2D(filters=12, kernel_size=(3, 3), activation='relu'), # Input layer\n",
    "    keras.layers.MaxPooling2D(pool_size=(2, 2)), # Downsizing images\n",
    "    keras.layers.Flatten(), # Images are 3D, flatten to 1D\n",
    "    keras.layers.Dense(10, activation='softmax') # Output layer (with 10 possible outputs for each digit)\n",
    "  ])\n",
    "\n",
    "  return model\n",
    "\n",
    "\n",
    "def evaluate_tflite_model(filename, x_test, y_test):\n",
    "  '''\n",
    "  Measures the accuracy of a given TF Lite model and test set\n",
    "\n",
    "  Args:\n",
    "    filename (string) - filename of the model to load\n",
    "    x_test (numpy array) - test images\n",
    "    y_test (numpy array) - test labels\n",
    "\n",
    "  Returns\n",
    "    float showing the accuracy against the test set\n",
    "  '''\n",
    "\n",
    "  # Initialize the TF Lite Interpreter and allocate tensors\n",
    "  interpreter = tf.lite.Interpreter(model_path=filename)\n",
    "  interpreter.allocate_tensors()\n",
    "\n",
    "  # Get input and output index\n",
    "  input_index = interpreter.get_input_details()[0][\"index\"]\n",
    "  output_index = interpreter.get_output_details()[0][\"index\"]\n",
    "\n",
    "  # Initialize empty predictions list\n",
    "  prediction_digits = []\n",
    "\n",
    "  # Run predictions on every image in the \"test\" dataset.\n",
    "  for i, test_image in enumerate(x_test):\n",
    "    # Pre-processing: add batch dimension and convert to float32 to match with\n",
    "    # the model's input data format.\n",
    "    test_image = np.expand_dims(test_image, axis=0).astype(np.float32)\n",
    "    interpreter.set_tensor(input_index, test_image)\n",
    "\n",
    "    # Run inference.\n",
    "    interpreter.invoke()\n",
    "\n",
    "    # Post-processing: remove batch dimension and find the digit with highest\n",
    "    # probability.\n",
    "    output = interpreter.tensor(output_index)\n",
    "    digit = np.argmax(output()[0])\n",
    "    prediction_digits.append(digit)\n",
    "\n",
    "  # Compare prediction results with ground truth labels to calculate accuracy.\n",
    "  prediction_digits = np.array(prediction_digits)\n",
    "  accuracy = (prediction_digits == y_test).mean()\n",
    "\n",
    "  return accuracy\n",
    "\n",
    "\n",
    "def get_gzipped_model_size(file):\n",
    "  '''Returns size of gzipped model, in bytes.'''\n",
    "  _, zipped_file = tempfile.mkstemp('.zip')\n",
    "  with zipfile.ZipFile(zipped_file, 'w', compression=zipfile.ZIP_DEFLATED) as f:\n",
    "    f.write(file)\n",
    "\n",
    "  return os.path.getsize(zipped_file)"
   ]
  },
  {
   "cell_type": "markdown",
   "metadata": {
    "id": "AxnjOqLpYawi"
   },
   "source": [
    "### Download and prepare the MNIST dataset\n",
    "\n",
    "You will be using the [MNIST](https://keras.io/api/datasets/mnist/) dataset which is hosted in [Keras Datasets](https://keras.io/api/datasets/). The MNIST dataset contains 60,000 training images of handwritten digits from zero to nine and 10,000 images for testing. The images are grayscale and 28 x 28 pixels. You will use this dataset to train a model to classify the images into 10 classes (one for each digit)."
   ]
  },
  {
   "cell_type": "code",
   "execution_count": null,
   "metadata": {
    "id": "Z5f5Y08r0sob"
   },
   "outputs": [],
   "source": [
    "# Load MNIST dataset\n",
    "mnist = tf.keras.datasets.mnist\n",
    "(train_images, train_labels), (test_images, test_labels) = mnist.load_data()\n",
    "\n",
    "# Normalize the input image so that each pixel value is between 0 to 1.\n",
    "train_images = train_images / 255.0\n",
    "test_images = test_images / 255.0"
   ]
  },
  {
   "cell_type": "markdown",
   "metadata": {
    "id": "Czvt9P1EYnQT"
   },
   "source": [
    "## Part 1. Baseline model\n",
    "\n",
    "Let's first build and train a Keras model. This will be the baseline where you will be comparing the mobile optimized versions later on. This will just be a shallow CNN with a softmax output to classify a given MNIST digit. You can review the `model_builder()` function in the utilities at the top of this notebook but we also printed the model summary below to show the architecture.\n",
    "\n",
    "You will also save the weights so you can reinitialize the other models later the same way. This is not needed in real projects but for this demo notebook, it would be good to have the same initial state later so you can compare the effects of the optimizations."
   ]
  },
  {
   "cell_type": "code",
   "execution_count": null,
   "metadata": {
    "colab": {
     "base_uri": "https://localhost:8080/"
    },
    "id": "3Ild5juYXu4j",
    "outputId": "7831f008-79df-49c7-d12f-7906d408b907"
   },
   "outputs": [],
   "source": [
    "# Create the baseline model\n",
    "baseline_model = model_builder()\n",
    "\n",
    "# Save the initial weights for use later\n",
    "baseline_model.save_weights(FILE_WEIGHTS)\n",
    "\n",
    "# Print the model summary\n",
    "baseline_model.summary()"
   ]
  },
  {
   "cell_type": "markdown",
   "metadata": {
    "id": "74y6LJMVYRCL"
   },
   "source": [
    "Now, compile and train the model. In practice, it's best to shuffle the train set but for this lab, it is set to `False` for reproducibility of the results. One epoch will reach around 91% accuracy."
   ]
  },
  {
   "cell_type": "code",
   "execution_count": null,
   "metadata": {
    "colab": {
     "base_uri": "https://localhost:8080/"
    },
    "id": "xViB61FuY0Pf",
    "outputId": "e1d47bb9-d48e-4049-a66e-7a5210a93f40"
   },
   "outputs": [],
   "source": [
    "# Setup the model for training\n",
    "baseline_model.compile(optimizer='adam',\n",
    "              loss='sparse_categorical_crossentropy',\n",
    "              metrics=['accuracy'])\n",
    "\n",
    "# Train the model\n",
    "baseline_model.fit(train_images, train_labels, epochs=1, shuffle=False)"
   ]
  },
  {
   "cell_type": "markdown",
   "metadata": {
    "id": "47BgpWwOaR8b"
   },
   "source": [
    "Let's save the accuracy of the model against the test set so you can compare later."
   ]
  },
  {
   "cell_type": "code",
   "execution_count": null,
   "metadata": {
    "colab": {
     "base_uri": "https://localhost:8080/"
    },
    "id": "JQSVh1_t4Z2h",
    "outputId": "ad843487-87c6-44b6-8073-4d4bc4685cdd"
   },
   "outputs": [],
   "source": [
    "\n",
    "# Get the baseline accuracy\n",
    "_, ACCURACY['baseline Keras model'] = baseline_model.evaluate(test_images, test_labels)"
   ]
  },
  {
   "cell_type": "markdown",
   "metadata": {
    "id": "aAfbP3uua6bE"
   },
   "source": [
    "Next, you will save the Keras model as a file and record its size as well."
   ]
  },
  {
   "cell_type": "code",
   "execution_count": null,
   "metadata": {
    "colab": {
     "base_uri": "https://localhost:8080/"
    },
    "id": "_A8WPjzqLbH3",
    "outputId": "75261437-6b60-4559-952f-99406a8b717f"
   },
   "outputs": [],
   "source": [
    "# Save the Keras model\n",
    "baseline_model.save(FILE_NON_QUANTIZED_H5, include_optimizer=False)\n",
    "\n",
    "# Save and get the model size\n",
    "MODEL_SIZE['baseline h5'] = os.path.getsize(FILE_NON_QUANTIZED_H5)\n",
    "\n",
    "# Print records so far\n",
    "print_metric(ACCURACY, \"test accuracy\")\n",
    "print_metric(MODEL_SIZE, \"model size in bytes\")"
   ]
  },
  {
   "cell_type": "markdown",
   "metadata": {
    "id": "Ak8rBX-qX_KM"
   },
   "source": [
    "### Convert the model to TF Lite format"
   ]
  },
  {
   "cell_type": "markdown",
   "metadata": {
    "id": "PpkXpDy_OCzB"
   },
   "source": [
    "Next, you will convert the model to [Tensorflow Lite (TF Lite)](https://www.tensorflow.org/lite/guide) format. This is designed to make Tensorflow models more efficient and lightweight when running on mobile, embedded, and IoT devices.\n",
    "\n",
    "You can convert a Keras model with TF Lite's [Converter](https://www.tensorflow.org/lite/convert/index) class and we've incorporated it in the short helper function below. Notice that there is a `quantize` flag which you can use to quantize the model.\n",
    "\n",
    "Complete the function below:\n",
    "\n",
    "1. Create a TFLiteConverter for the given model.\n",
    "2. Add default optimization when the parameter `quantize` is `True`.\n",
    "3. Convert the model.\n",
    "\n",
    "Check the [documentation](https://www.tensorflow.org/lite/performance/post_training_quantization) for more information."
   ]
  },
  {
   "cell_type": "code",
   "execution_count": null,
   "metadata": {
    "id": "zQYM0A0SgCNS"
   },
   "outputs": [],
   "source": [
    "def convert_tflite(model, filename, quantize=False):\n",
    "  '''\n",
    "  Converts the model to TF Lite format and writes to a file\n",
    "\n",
    "  Args:\n",
    "    model (Keras model) - model to convert to TF Lite\n",
    "    filename (string) - string to use when saving the file\n",
    "    quantize (bool) - flag to indicate quantization\n",
    "\n",
    "  Returns:\n",
    "    None\n",
    "  '''\n",
    "\n",
    "  # Initialize the converter\n",
    "  # TODO: create a TFLite converter\n",
    "  converter = model\n",
    "\n",
    "  # Set for quantization if flag is set to True\n",
    "  if quantize:\n",
    "    # TODO: Add DEFAULT TFLite optimizer\n",
    "    converter.optimizations = []\n",
    "\n",
    "  # Convert the model\n",
    "  # TODO: start the model conversion\n",
    "  tflite_model = converter\n",
    "\n",
    "  # Save the model.\n",
    "  with open(filename, 'wb') as f:\n",
    "    f.write(tflite_model)"
   ]
  },
  {
   "cell_type": "markdown",
   "metadata": {
    "id": "lQkC9plnP2pU"
   },
   "source": [
    "You will use the helper function to convert the Keras model then get its size and accuracy. Take note that this is *not yet* quantized."
   ]
  },
  {
   "cell_type": "code",
   "execution_count": null,
   "metadata": {
    "id": "5H61feiOZkcI"
   },
   "outputs": [],
   "source": [
    "# Convert baseline model\n",
    "convert_tflite(baseline_model, FILE_NON_QUANTIZED_TFLITE)"
   ]
  },
  {
   "cell_type": "markdown",
   "metadata": {
    "id": "REf-EaQlQoYZ"
   },
   "source": [
    "You will notice that there is already a slight decrease in model size when converting to `.tflite` format."
   ]
  },
  {
   "cell_type": "code",
   "execution_count": null,
   "metadata": {
    "colab": {
     "base_uri": "https://localhost:8080/"
    },
    "id": "cmlNGwbCBo8v",
    "outputId": "b1c48785-f414-4315-d8e2-d40b41a950af"
   },
   "outputs": [],
   "source": [
    "MODEL_SIZE['non quantized tflite'] = os.path.getsize(FILE_NON_QUANTIZED_TFLITE)\n",
    "\n",
    "print_metric(MODEL_SIZE, 'model size in bytes')"
   ]
  },
  {
   "cell_type": "markdown",
   "metadata": {
    "id": "Rp-ndoNSRnvX"
   },
   "source": [
    "The accuracy will also be nearly identical when converting between formats. You can setup a TF Lite model for input-output using its [Interpreter](https://www.tensorflow.org/api_docs/python/tf/lite/Interpreter) class. This is shown in the `evaluate_tflite_model()` helper function provided in the `Utilities` section earlier.\n",
    "\n",
    "*Note: If you see a `Runtime Error: There is at least 1 reference to internal data in the interpreter in the form of a numpy array or slice.` , please try re-running the cell.*"
   ]
  },
  {
   "cell_type": "code",
   "execution_count": null,
   "metadata": {
    "id": "OQFkh5ukiiZE"
   },
   "outputs": [],
   "source": [
    "ACCURACY['non quantized tflite'] = evaluate_tflite_model(FILE_NON_QUANTIZED_TFLITE, test_images, test_labels)"
   ]
  },
  {
   "cell_type": "code",
   "execution_count": null,
   "metadata": {
    "colab": {
     "base_uri": "https://localhost:8080/"
    },
    "id": "CplCOws3jaB0",
    "outputId": "8af3919c-55d5-407c-b151-058c1bc5ca0f"
   },
   "outputs": [],
   "source": [
    "print_metric(ACCURACY, 'test accuracy')"
   ]
  },
  {
   "cell_type": "markdown",
   "metadata": {
    "id": "N6ilHiSGYCFL"
   },
   "source": [
    "## Part 2. Post-Training Quantization\n",
    "\n",
    "Now that you have the baseline metrics, you can now observe the effects of quantization. This process involves converting floating point representations into integer to reduce model size and achieve faster computation."
   ]
  },
  {
   "cell_type": "markdown",
   "metadata": {},
   "source": [
    "As shown in the `convert_tflite()` helper function earlier, you can easily do [post-training quantization](https://www.tensorflow.org/lite/performance/post_training_quantization) with the TF Lite API. You just need to set the converter optimization and assign an [Optimize](https://www.tensorflow.org/api_docs/python/tf/lite/Optimize) Enum.\n",
    "\n",
    "You will set the `quantize` flag to do that and get the metrics again."
   ]
  },
  {
   "cell_type": "code",
   "execution_count": null,
   "metadata": {
    "id": "DdWNTJ2J1OpL"
   },
   "outputs": [],
   "source": [
    "# Convert and quantize the baseline model\n",
    "convert_tflite(baseline_model, FILE_PT_QUANTIZED, quantize=True)"
   ]
  },
  {
   "cell_type": "code",
   "execution_count": null,
   "metadata": {
    "colab": {
     "base_uri": "https://localhost:8080/"
    },
    "id": "cTFHf4Rw1bCJ",
    "outputId": "2fe9a4a5-d044-482c-b88f-2d8a12467ae7"
   },
   "outputs": [],
   "source": [
    "# Get the model size\n",
    "MODEL_SIZE['post training quantized tflite'] = os.path.getsize(FILE_PT_QUANTIZED)\n",
    "\n",
    "print_metric(MODEL_SIZE, 'model size')"
   ]
  },
  {
   "cell_type": "markdown",
   "metadata": {
    "id": "SYcBZduWVqOH"
   },
   "source": [
    "You should see around a 4X reduction in model size in the quantized version. This comes from converting the 32 bit representations (float) into 8 bits (integer).\n",
    "\n"
   ]
  },
  {
   "cell_type": "code",
   "execution_count": null,
   "metadata": {
    "id": "vhEYoQ83-pT_"
   },
   "outputs": [],
   "source": [
    "ACCURACY['post training quantized tflite'] = evaluate_tflite_model(FILE_PT_QUANTIZED, test_images, test_labels)\n",
    "\n",
    "print_metric(ACCURACY, 'test accuracy')"
   ]
  },
  {
   "cell_type": "markdown",
   "metadata": {
    "id": "rGTzSOuQWG4L"
   },
   "source": [
    "You can expect the accuracy to not be the same when quantizing the model. Most of the time it will decrease but in some cases, it can even increase. Again, this can be attributed to the loss of precision when you remove the extra bits from the float data."
   ]
  },
  {
   "cell_type": "markdown",
   "metadata": {
    "id": "vFf1DDVnYIes"
   },
   "source": [
    "## Part 3. Quantization Aware Training\n",
    "\n",
    "When post-training quantization results in loss of accuracy that is unacceptable for your application, you can consider doing [quantization aware training](https://www.tensorflow.org/model_optimization/guide/quantization/training) before quantizing the model. This simulates the loss of precision by inserting fake quant nodes in the model during training. That way, your model will learn to adapt with the loss of precision to get more accurate predictions."
   ]
  },
  {
   "cell_type": "markdown",
   "metadata": {
    "id": "37oAb7PuXK36"
   },
   "source": [
    "The [Tensorflow Model Optimization Toolkit](https://www.tensorflow.org/model_optimization) provides a [quantize_model()](https://www.tensorflow.org/model_optimization/api_docs/python/tfmot/quantization/keras/quantize_model) method to do this quickly and you will see that below. But first, let's install the toolkit into the notebook environment."
   ]
  },
  {
   "cell_type": "code",
   "execution_count": null,
   "metadata": {
    "colab": {
     "base_uri": "https://localhost:8080/"
    },
    "id": "6WSt6OQGoNAt",
    "outputId": "709001df-9224-44e0-90c4-a12cbac61c2e"
   },
   "outputs": [],
   "source": [
    "# Install the toolkit\n",
    "!pip install tensorflow_model_optimization==0.8.0"
   ]
  },
  {
   "cell_type": "markdown",
   "metadata": {
    "id": "oYHmeMihYjnB"
   },
   "source": [
    "You will build the baseline model again but this time, pass it into the `quantize_model()` method to indicate quantization aware training (note the `TODO`). Check the [documentation](https://www.tensorflow.org/model_optimization/guide/quantization/training_comprehensive_guide) for more information.\n",
    "\n",
    "Take note that in case you decide to pass in a model that is already trained, then make sure to recompile before you continue training."
   ]
  },
  {
   "cell_type": "code",
   "execution_count": null,
   "metadata": {
    "colab": {
     "base_uri": "https://localhost:8080/"
    },
    "id": "3dGSpz0on2C4",
    "outputId": "d28f8bca-8430-4f5d-f954-8279d6b914d0"
   },
   "outputs": [],
   "source": [
    "import tensorflow_model_optimization as tfmot\n",
    "\n",
    "# method to quantize a Keras model\n",
    "quantize_model = tfmot.quantization.keras.quantize_model\n",
    "\n",
    "# Define the model architecture.\n",
    "model_to_quantize = model_builder()\n",
    "\n",
    "# Reinitialize weights with saved file\n",
    "model_to_quantize.load_weights(FILE_WEIGHTS)\n",
    "\n",
    "# Quantize the model\n",
    "# TODO: create a quantization aware model from model_to_quantize\n",
    "q_aware_model = model_to_quantize\n",
    "\n",
    "# `quantize_model` requires a recompile.\n",
    "q_aware_model.compile(optimizer='adam',\n",
    "              loss='sparse_categorical_crossentropy',\n",
    "              metrics=['accuracy'])\n",
    "\n",
    "q_aware_model.summary()"
   ]
  },
  {
   "cell_type": "markdown",
   "metadata": {
    "id": "lmcaLaotZ7G7"
   },
   "source": [
    "You may have noticed a slight difference in the model summary above compared to the baseline model summary in the earlier sections. The total params count increased as expected because of the nodes added by the `quantize_model()` method.\n",
    "\n",
    "With that, you can now train the model. You will notice that the accuracy is a bit lower because the model is simulating the loss of precision. The training will take a bit longer if you want to achieve the same training accuracy as the earlier run. For this exercise though, we will keep to 1 epoch."
   ]
  },
  {
   "cell_type": "code",
   "execution_count": null,
   "metadata": {
    "colab": {
     "base_uri": "https://localhost:8080/"
    },
    "id": "yl4jbjllomDw",
    "outputId": "aca7a467-a7bd-4172-d7c7-69d00434a265"
   },
   "outputs": [],
   "source": [
    "# Train the model\n",
    "q_aware_model.fit(train_images, train_labels, epochs=1, shuffle=False)"
   ]
  },
  {
   "cell_type": "markdown",
   "metadata": {
    "id": "b_WAM2C4bWeC"
   },
   "source": [
    "You can then get the accuracy of the Keras model before and after quantizing the model. The accuracy is expected to be nearly identical because the model is trained to counter the effects of quantization."
   ]
  },
  {
   "cell_type": "code",
   "execution_count": null,
   "metadata": {
    "colab": {
     "base_uri": "https://localhost:8080/"
    },
    "id": "J7rOuwM_ozI_",
    "outputId": "b9fadf42-93e5-41c4-ecbb-2ff5cbe58ee5"
   },
   "outputs": [],
   "source": [
    "# Get the accuracy of the quantization aware trained model (not yet quantized)\n",
    "_, ACCURACY['quantization aware non-quantized'] = q_aware_model.evaluate(test_images, test_labels, verbose=0)\n",
    "print_metric(ACCURACY, 'test accuracy')"
   ]
  },
  {
   "cell_type": "code",
   "execution_count": null,
   "metadata": {
    "colab": {
     "base_uri": "https://localhost:8080/"
    },
    "id": "6liE_Cp3rzAy",
    "outputId": "8c76bf49-f5e4-4aae-aed0-995c940f0a5e"
   },
   "outputs": [],
   "source": [
    "# Convert and quantize the model.\n",
    "convert_tflite(q_aware_model, FILE_QAT_QUANTIZED, quantize=True)\n",
    "\n",
    "# Get the accuracy of the quantized model\n",
    "ACCURACY['quantization aware quantized'] = evaluate_tflite_model(FILE_QAT_QUANTIZED, test_images, test_labels)\n",
    "print_metric(ACCURACY, 'test accuracy')"
   ]
  },
  {
   "cell_type": "markdown",
   "metadata": {},
   "source": [
    "Let's also check the model size after quantizing the model. You should see about the same size as the post-training quantized model."
   ]
  },
  {
   "cell_type": "code",
   "execution_count": null,
   "metadata": {},
   "outputs": [],
   "source": [
    "# Get the model size of the quantized model\n",
    "MODEL_SIZE['quantization aware quantized tflite'] = os.path.getsize(FILE_QAT_QUANTIZED)\n",
    "\n",
    "print_metric(MODEL_SIZE, 'model size')"
   ]
  },
  {
   "cell_type": "markdown",
   "metadata": {
    "id": "SwvaMflTYNgo"
   },
   "source": [
    "## Part 4. Pruning\n",
    "\n",
    "Let's now move on to another technique for reducing model size: [Pruning](https://www.tensorflow.org/model_optimization/guide/pruning/pruning_with_keras). This process involves zeroing out insignificant (i.e. low magnitude) weights. The intuition is these weights do not contribute as much to making predictions so you can remove them and get the same result. Making the weights sparse helps in compressing the model more efficiently and you will see that in this section."
   ]
  },
  {
   "cell_type": "markdown",
   "metadata": {
    "id": "LdlFujrJbzV7"
   },
   "source": [
    "The Tensorflow Model Optimization Toolkit again has a convenience method for this. The [prune_low_magnitude()](https://www.tensorflow.org/model_optimization/api_docs/python/tfmot/sparsity/keras/prune_low_magnitude) method puts wrappers in a Keras model so it can be pruned during training. You will pass in the baseline model that you already trained earlier. You will notice that the model summary show increased params because of the wrapper layers added by the pruning method.\n",
    "\n",
    "You can set how the pruning is done during training. Below, you will use [PolynomialDecay](https://www.tensorflow.org/model_optimization/api_docs/python/tfmot/sparsity/keras/PolynomialDecay) to indicate how the sparsity ramps up with each step. Another option available in the library is [Constant Sparsity](https://www.tensorflow.org/model_optimization/api_docs/python/tfmot/sparsity/keras/ConstantSparsity). Use the following parameters for `PolynomialDecay`:\n",
    "\n",
    "- initial sparsity: 0.50\n",
    "- final sparsity: 0.80\n",
    "- begin step: 0\n",
    "- end step: use `end_step` variable calculated in this cell\n",
    "\n",
    "Check the [documentation](https://www.tensorflow.org/model_optimization/guide/pruning/comprehensive_guide) for more information."
   ]
  },
  {
   "cell_type": "code",
   "execution_count": null,
   "metadata": {
    "colab": {
     "base_uri": "https://localhost:8080/"
    },
    "id": "TpqizJsKYPBA",
    "outputId": "db0c1e2d-f3a6-4699-ff02-7ac63ba95111"
   },
   "outputs": [],
   "source": [
    "# Get the pruning method\n",
    "prune_low_magnitude = tfmot.sparsity.keras.prune_low_magnitude\n",
    "\n",
    "# Compute end step to finish pruning after 2 epochs.\n",
    "batch_size = 128\n",
    "epochs = 2\n",
    "validation_split = 0.1 # 10% of training set will be used for validation set.\n",
    "\n",
    "num_images = train_images.shape[0] * (1 - validation_split)\n",
    "end_step = np.ceil(num_images / batch_size).astype(np.int32) * epochs\n",
    "\n",
    "# Define pruning schedule.\n",
    "# TODO: replace None with PolynomialDecay with the above parameters\n",
    "pruning_params = {\n",
    "      'pruning_schedule': None,\n",
    "}\n",
    "\n",
    "# Pass in the trained baseline model\n",
    "# TODO: wrap baseline_model with the pruning method, you might need ** to pass pruning_params\n",
    "model_for_pruning = baseline_model\n",
    "\n",
    "# `prune_low_magnitude` requires a recompile.\n",
    "model_for_pruning.compile(optimizer='adam',\n",
    "              loss='sparse_categorical_crossentropy',\n",
    "              metrics=['accuracy'])\n",
    "\n",
    "model_for_pruning.summary()"
   ]
  },
  {
   "cell_type": "markdown",
   "metadata": {
    "id": "qgmHaZI6fip_"
   },
   "source": [
    "You can also peek at the weights of one of the layers in your model. After pruning, you will notice that many of these will be zeroed out."
   ]
  },
  {
   "cell_type": "code",
   "execution_count": null,
   "metadata": {
    "colab": {
     "base_uri": "https://localhost:8080/"
    },
    "id": "y5ekdEBigB5l",
    "outputId": "023e46eb-8062-464a-cc94-bbf8ed1a49cb"
   },
   "outputs": [],
   "source": [
    "# Preview model weights\n",
    "model_for_pruning.weights[1]"
   ]
  },
  {
   "cell_type": "markdown",
   "metadata": {
    "id": "0XFwMRqpgbr0"
   },
   "source": [
    "With that, you can now start re-training the model. Add the [UpdatePruningStep()](https://www.tensorflow.org/model_optimization/api_docs/python/tfmot/sparsity/keras/UpdatePruningStep) callback to the `callbacks` array."
   ]
  },
  {
   "cell_type": "code",
   "execution_count": null,
   "metadata": {
    "colab": {
     "base_uri": "https://localhost:8080/"
    },
    "id": "DUCz6PL371Bx",
    "outputId": "21d07d90-4664-496b-af97-13d8b6985aa5"
   },
   "outputs": [],
   "source": [
    "# Callback to update pruning wrappers at each step\n",
    "# TODO: add UpdatePruningStep callback\n",
    "callbacks = [\n",
    "]\n",
    "\n",
    "# Train and prune the model\n",
    "model_for_pruning.fit(train_images, train_labels,\n",
    "                  epochs=epochs, validation_split=validation_split,\n",
    "                  callbacks=callbacks)"
   ]
  },
  {
   "cell_type": "markdown",
   "metadata": {
    "id": "rEExgy4hhXP-"
   },
   "source": [
    "Now see how the weights in the same layer looks like after pruning."
   ]
  },
  {
   "cell_type": "code",
   "execution_count": null,
   "metadata": {
    "colab": {
     "base_uri": "https://localhost:8080/"
    },
    "id": "TOK4TidJhXpT",
    "outputId": "ce9d28b0-5c4d-4416-c292-c569336613bc"
   },
   "outputs": [],
   "source": [
    "# Preview model weights\n",
    "model_for_pruning.weights[1]"
   ]
  },
  {
   "cell_type": "markdown",
   "metadata": {
    "id": "o5ckfDHLhhub"
   },
   "source": [
    "After pruning, you can remove the wrapper layers to have the same layers and params as the baseline model. You can do that with the [strip_pruning()](https://www.tensorflow.org/model_optimization/api_docs/python/tfmot/sparsity/keras/strip_pruning) method as shown below. You will do this so you can save the model and also export to TF Lite format just like in the previous sections."
   ]
  },
  {
   "cell_type": "code",
   "execution_count": null,
   "metadata": {
    "colab": {
     "base_uri": "https://localhost:8080/"
    },
    "id": "PbfLhZv68vwc",
    "outputId": "ff265b86-7986-40b8-bdd0-a07fc69ce759"
   },
   "outputs": [],
   "source": [
    "# Remove pruning wrappers\n",
    "model_for_export = tfmot.sparsity.keras.strip_pruning(model_for_pruning)\n",
    "model_for_export.summary()"
   ]
  },
  {
   "cell_type": "markdown",
   "metadata": {
    "id": "KtbPlo-kj9Ku"
   },
   "source": [
    "You will see the same model weights but the index is different because the wrappers were removed."
   ]
  },
  {
   "cell_type": "code",
   "execution_count": null,
   "metadata": {
    "colab": {
     "base_uri": "https://localhost:8080/"
    },
    "id": "SG6-aF9yiraG",
    "outputId": "a98d3dd9-e5f9-477b-c14b-40a351410bef"
   },
   "outputs": [],
   "source": [
    "# Preview model weights (index 1 earlier is now 0 because pruning wrappers were removed)\n",
    "model_for_export.weights[0]"
   ]
  },
  {
   "cell_type": "markdown",
   "metadata": {
    "id": "ZR94MYxLkHfn"
   },
   "source": [
    "You will notice below that the pruned model will have the same file size as the baseline_model when saved as H5. This is to be expected. The improvement will be noticeable when you compress the model as will be shown in the cell after this."
   ]
  },
  {
   "cell_type": "code",
   "execution_count": null,
   "metadata": {
    "colab": {
     "base_uri": "https://localhost:8080/"
    },
    "id": "CjjDMqJCTjqz",
    "outputId": "77a7bb45-e6bc-469f-db36-0086e2380e1d"
   },
   "outputs": [],
   "source": [
    "# Save Keras model\n",
    "model_for_export.save(FILE_PRUNED_MODEL_H5, include_optimizer=False)\n",
    "\n",
    "# Get uncompressed model size of baseline and pruned models\n",
    "MODEL_SIZE['baseline h5'] = os.path.getsize(FILE_NON_QUANTIZED_H5)\n",
    "MODEL_SIZE['pruned non quantized h5'] = os.path.getsize(FILE_PRUNED_MODEL_H5)\n",
    "\n",
    "print_metric(MODEL_SIZE, 'model_size in bytes')"
   ]
  },
  {
   "cell_type": "markdown",
   "metadata": {
    "id": "tCEfa-LRleT_"
   },
   "source": [
    "You will use the `get_gzipped_model_size()` helper function in the `Utilities` to compress the models and get its resulting file size. You will notice that the pruned model is about 3 times smaller. This is because of the sparse weights generated by the pruning process. The zeros can be compressed much more efficiently than the low magnitude weights before pruning."
   ]
  },
  {
   "cell_type": "code",
   "execution_count": null,
   "metadata": {
    "colab": {
     "base_uri": "https://localhost:8080/"
    },
    "id": "VWQ_AgiX_yiP",
    "outputId": "61f07bee-e712-48c2-cdeb-0fbb3b89bd8d"
   },
   "outputs": [],
   "source": [
    "# Get compressed size of baseline and pruned models\n",
    "MODEL_SIZE['baseline h5 (gzipped)'] = get_gzipped_model_size(FILE_NON_QUANTIZED_H5)\n",
    "MODEL_SIZE['pruned non quantized h5 (gzipped)'] = get_gzipped_model_size(FILE_PRUNED_MODEL_H5)\n",
    "\n",
    "print_metric(MODEL_SIZE, \"gzipped model size in bytes\")"
   ]
  },
  {
   "cell_type": "markdown",
   "metadata": {
    "id": "uByyx0L3mlYc"
   },
   "source": [
    "You can make the model even more lightweight by quantizing the pruned model. This achieves around 10X reduction in compressed model size as compared to the baseline."
   ]
  },
  {
   "cell_type": "code",
   "execution_count": null,
   "metadata": {
    "colab": {
     "base_uri": "https://localhost:8080/"
    },
    "id": "qIY6n9XWCvt5",
    "outputId": "cf620e8a-2faa-440c-c0e9-23cfa6a4596d"
   },
   "outputs": [],
   "source": [
    "# Convert and quantize the pruned model.\n",
    "pruned_quantized_tflite = convert_tflite(model_for_export, FILE_PRUNED_QUANTIZED_TFLITE, quantize=True)\n",
    "\n",
    "# Compress and get the model size\n",
    "MODEL_SIZE['pruned quantized tflite (gzipped)'] = get_gzipped_model_size(FILE_PRUNED_QUANTIZED_TFLITE)\n",
    "print_metric(MODEL_SIZE, \"gzipped model size in bytes\")"
   ]
  },
  {
   "cell_type": "markdown",
   "metadata": {
    "id": "v4ytiH3ynIid"
   },
   "source": [
    "As expected, the TF Lite model's accuracy will also be close to the Keras model."
   ]
  },
  {
   "cell_type": "code",
   "execution_count": null,
   "metadata": {
    "colab": {
     "base_uri": "https://localhost:8080/"
    },
    "id": "PZBAdJmuWN0A",
    "outputId": "ea90691d-04ce-4989-97df-90c6a7c1cbe3"
   },
   "outputs": [],
   "source": [
    "# Get accuracy of pruned Keras and TF Lite models\n",
    "_, ACCURACY['pruned model h5'] = model_for_pruning.evaluate(test_images, test_labels)\n",
    "ACCURACY['pruned and quantized tflite'] = evaluate_tflite_model(FILE_PRUNED_QUANTIZED_TFLITE, test_images, test_labels)\n",
    "\n",
    "print_metric(ACCURACY, 'accuracy')"
   ]
  }
 ],
 "metadata": {
  "colab": {
   "provenance": [],
   "toc_visible": true
  },
  "gpuClass": "standard",
  "kernelspec": {
   "display_name": "Python 3",
   "name": "python3"
  },
  "language_info": {
   "name": "python"
  }
 },
 "nbformat": 4,
 "nbformat_minor": 0
}
